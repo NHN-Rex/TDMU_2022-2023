{
 "cells": [
  {
   "attachments": {},
   "cell_type": "markdown",
   "metadata": {},
   "source": [
    "1/ Import: \n",
    "    \"os\" và \"sys\" liên quan đến việc truy cập các tệp trên máy tính của bạn hoặc đóng chương trình. \"openpyxl\" là mo-dun cho phép đọc ghi các tệp Excel."
   ]
  },
  {
   "cell_type": "code",
   "execution_count": 19,
   "metadata": {},
   "outputs": [],
   "source": [
    "# import pandas as pd\n",
    "# filename = \"test.csv\"\n",
    "# newfile = \"test_new.csv\"\n",
    "# data = pd.read_csv(filename)\n",
    "# data[[\"Văn\", \"Sử\", \"Địa\"]] = \"\"\n",
    "# data[\"DTB\"] = round((data[\"Hoá\"] + data[\"Lý\"] + data[\"Toán\"])/3, 1)\n",
    "# # print(data)\n",
    "# data.to_csv(newfile)\n",
    "# print(pd.read_csv(newfile))"
   ]
  },
  {
   "cell_type": "code",
   "execution_count": null,
   "metadata": {},
   "outputs": [],
   "source": [
    "file = open(\"file.csv\", mode=\"r\", encoding=\"utf-8-sig\")\n",
    "file_new = open(\"file_new.csv\", mode=\"w\", encoding=\"utf-8-sig\")\n",
    "header = file.readline()\n",
    "file_new.write(header.strip() + \",Điểm trung bình\" + \",Học lực\\n\")\n",
    "row = file.readline()\n",
    "while row != \"\":\n",
    "    row_list = row.strip().split(\",\")\n",
    "    sum = 0\n",
    "    for x in range(2, 5):\n",
    "        sum += int(row_list[x])\n",
    "    ave = sum/(len(row_list)-2)\n",
    "    rank = \"\"\n",
    "    count = 0\n",
    "    for x in range(2, len(row_list)):\n",
    "        if(row_list[x] == \"\"):\n",
    "            count += 1\n",
    "    print(count)\n",
    "    if(count >= 2): rank = \"khong thi\"\n",
    "    elif(ave >= 8): rank = \"Gioi\"\n",
    "    elif(ave >= 5): rank = \"Kha\"\n",
    "    else: rank = \"Trung binh\"\n",
    "    file_new.write(row.strip() + \",\" + str(round(ave, 1)) + \",\" + rank + \"\\n\")\n",
    "    row = file.readline()\n"
   ]
  },
  {
   "cell_type": "code",
   "execution_count": 5,
   "metadata": {},
   "outputs": [],
   "source": [
    "data = open(\"test1.csv\", mode=\"r\", encoding=\"utf-8-sig\")\n",
    "data_new = open(\"test_new.csv\", mode=\"w\", encoding=\"utf-8-sig\")\n",
    "header = data.readline()\n",
    "data_new.write(header.strip() + \",KQ\\n\")\n",
    "row = data.readline()\n",
    "while row != \"\":\n",
    "    row_list = row.strip().split(\",\")\n",
    "    count = 0\n",
    "    rank = \"\"\n",
    "    if((row_list[len(row_list)-1]) <= \"5\"): rank = \"0\"\n",
    "    else: rank = \"1\"\n",
    "    for x in range(2, len(row_list)):\n",
    "        if((row_list[x] == \"\") or (row_list[x] == \"DT\") or (row_list[x] == \"VT\") or (row_list[x] == \"CT\")):\n",
    "            count += 1\n",
    "    if(count > 4): rank = \"0\"\n",
    "    else: rank = \"1\"\n",
    "    data_new.write(row.strip() + \",\" + rank + \"\\n\")\n",
    "    row = data.readline()"
   ]
  }
 ],
 "metadata": {
  "kernelspec": {
   "display_name": "Python 3",
   "language": "python",
   "name": "python3"
  },
  "language_info": {
   "codemirror_mode": {
    "name": "ipython",
    "version": 3
   },
   "file_extension": ".py",
   "mimetype": "text/x-python",
   "name": "python",
   "nbconvert_exporter": "python",
   "pygments_lexer": "ipython3",
   "version": "3.10.8"
  },
  "orig_nbformat": 4
 },
 "nbformat": 4,
 "nbformat_minor": 2
}
