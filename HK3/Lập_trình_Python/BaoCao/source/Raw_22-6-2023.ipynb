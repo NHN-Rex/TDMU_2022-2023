{
 "cells": [
  {
   "cell_type": "code",
   "execution_count": 23,
   "metadata": {},
   "outputs": [],
   "source": [
    "#Cài đặt thư viện Newspaper3k trước: pip install newspaper3k\n",
    "from newspaper import Article\n",
    "import csv\n",
    "url = 'https://www.facebook.com/groups/1497427620596599/?hoisted_section_header_type=recently_seen&multi_permalinks=1841309972875027'\n",
    "article = Article(url)\n",
    "article.download()\n",
    "article.parse()\n",
    "f = open(\"2124802050013.csv\", 'w')# tên file sinh ra.\n",
    "writer = csv.writer(f)\n",
    "writer.writerow([\"Author\", \"Publish_Date\", \"Text\", \"Top_Image\", \"Movies\"])\n",
    "writer.writerow([str(article.authors), str(article.publish_date), str(article.text), str(article.top_image), str(article.movies)])\n",
    "f.close()"
   ]
  }
 ],
 "metadata": {
  "kernelspec": {
   "display_name": "Python 3",
   "language": "python",
   "name": "python3"
  },
  "language_info": {
   "codemirror_mode": {
    "name": "ipython",
    "version": 3
   },
   "file_extension": ".py",
   "mimetype": "text/x-python",
   "name": "python",
   "nbconvert_exporter": "python",
   "pygments_lexer": "ipython3",
   "version": "3.10.8"
  },
  "orig_nbformat": 4
 },
 "nbformat": 4,
 "nbformat_minor": 2
}
