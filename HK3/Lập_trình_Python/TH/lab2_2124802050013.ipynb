{
 "cells": [
  {
   "attachments": {},
   "cell_type": "markdown",
   "metadata": {},
   "source": [
    "# Bai1"
   ]
  },
  {
   "cell_type": "code",
   "execution_count": null,
   "metadata": {},
   "outputs": [],
   "source": [
    "import math\n",
    "def check_snt(n):\n",
    "    if(n < 2): return False\n",
    "    for i in range(2, int(math.sqrt(n)+1)):\n",
    "        if n % i == 0: return False\n",
    "    return True\n",
    "for i in range(11, int(input('nhap n: '))):\n",
    "    if(check_snt(i)): print(i, end= \" \")"
   ]
  },
  {
   "attachments": {},
   "cell_type": "markdown",
   "metadata": {},
   "source": [
    "# Bai2"
   ]
  },
  {
   "cell_type": "code",
   "execution_count": null,
   "metadata": {},
   "outputs": [],
   "source": [
    "def chuoithuannghich(n):\n",
    "    for i in range (int(len(n)/2)):\n",
    "        if(n[i] != n[len(n)-1-i]):\n",
    "            return 0\n",
    "    return 1\n",
    "    \n",
    "    \n",
    "n = input('nhap chuỗi muốn kiểm tra: ')\n",
    "print(n)\n",
    "if(chuoithuannghich(n)):\n",
    "    print('Đó là chuỗi thuận nghịch')\n",
    "else:\n",
    "    print('Đó không phải là chuỗi thuận nghịch')"
   ]
  },
  {
   "attachments": {},
   "cell_type": "markdown",
   "metadata": {},
   "source": [
    "# Bai3"
   ]
  },
  {
   "cell_type": "code",
   "execution_count": null,
   "metadata": {},
   "outputs": [],
   "source": [
    "def convert(x):\n",
    "    match x:\n",
    "        case 0: return 'Zero'\n",
    "        case 1: return 'One'\n",
    "        case 2: return 'Two'\n",
    "        case 3: return 'Three'\n",
    "        case 4: return 'Four'\n",
    "        case 5: return 'Five'\n",
    "        case 6: return 'Six'\n",
    "        case 7: return 'Seven'\n",
    "        case 8: return 'Eight'\n",
    "        case 9: return 'Nine'\n",
    "n = input('nhập số điện thoại: ')\n",
    "for i in range(len(n)):\n",
    "    print(convert(int(n[i])), end=' ')"
   ]
  },
  {
   "attachments": {},
   "cell_type": "markdown",
   "metadata": {},
   "source": [
    "# Bai4"
   ]
  },
  {
   "cell_type": "code",
   "execution_count": null,
   "metadata": {},
   "outputs": [],
   "source": [
    "dict = {}\n",
    "n = int(input('nhập n:'))\n",
    "for i in range(1, n+1):\n",
    "    dict[i] = i**2\n",
    "print(dict)"
   ]
  },
  {
   "attachments": {},
   "cell_type": "markdown",
   "metadata": {},
   "source": [
    "# Bai5"
   ]
  },
  {
   "cell_type": "code",
   "execution_count": null,
   "metadata": {},
   "outputs": [],
   "source": [
    "def find_position(l, target, starts, ends):\n",
    "    for x in range(len(l)):\n",
    "        if l[x]==target :\n",
    "            if(starts == -1 and ends == -1):\n",
    "                ends = x\n",
    "                starts = x\n",
    "            else:\n",
    "                ends = x\n",
    "    return starts, ends\n",
    "lst = [5,7,7,8,8,10]\n",
    "starts, ends = -1, -1\n",
    "target = int(input())\n",
    "\n",
    "print(list(find_position(lst, target, starts, ends)))"
   ]
  },
  {
   "attachments": {},
   "cell_type": "markdown",
   "metadata": {},
   "source": [
    "# Bai6"
   ]
  },
  {
   "cell_type": "code",
   "execution_count": null,
   "metadata": {},
   "outputs": [],
   "source": [
    "n = [4,1,2,1,2]\n",
    "x = -1\n",
    "def sort(arr):\n",
    "    for i in range(1, len(arr)):\n",
    "        key = arr[i]\n",
    "        j = i-1\n",
    "        while j >=0 and key < arr[j] :\n",
    "                arr[j+1] = arr[j]\n",
    "                j -= 1\n",
    "        arr[j+1] = key\n",
    "    return arr\n",
    "\n",
    "def find_single_one(x, n):\n",
    "    sort(n)\n",
    "    for x in range(0, len(n)-1, 2):\n",
    "        if n[x] != n[x+1]:\n",
    "            return n[x]\n",
    "    return n[-1]\n",
    "\n",
    "print(find_single_one(x, n))"
   ]
  },
  {
   "attachments": {},
   "cell_type": "markdown",
   "metadata": {},
   "source": [
    "# Bai7"
   ]
  },
  {
   "cell_type": "code",
   "execution_count": 59,
   "metadata": {},
   "outputs": [
    {
     "name": "stdout",
     "output_type": "stream",
     "text": [
      "[1, 2]\n"
     ]
    }
   ],
   "source": [
    "def binary_search(arr, low, high, x):\n",
    "    if high >= low:\n",
    "        mid = (high + low) // 2\n",
    "        if arr[mid] == x:\n",
    "            return mid\n",
    "        elif arr[mid] > x:\n",
    "            return binary_search(arr, low, mid - 1, x)\n",
    "        else:\n",
    "            return binary_search(arr, mid + 1, high, x)\n",
    "    else:\n",
    "        return -1\n",
    "\n",
    "s = [3,2,4]\n",
    "target =  int(input(\"Target = \"))\n",
    "result = []\n",
    "for i in range(len(s)-1):\n",
    "    x = target-s[i]\n",
    "    y = binary_search(s, i, len(s)-1, x)\n",
    "    if(y!=-1):\n",
    "        result.append(i)\n",
    "        result.append(y)\n",
    "print(result)\n"
   ]
  }
 ],
 "metadata": {
  "kernelspec": {
   "display_name": "Python 3",
   "language": "python",
   "name": "python3"
  },
  "language_info": {
   "codemirror_mode": {
    "name": "ipython",
    "version": 3
   },
   "file_extension": ".py",
   "mimetype": "text/x-python",
   "name": "python",
   "nbconvert_exporter": "python",
   "pygments_lexer": "ipython3",
   "version": "3.10.8"
  },
  "orig_nbformat": 4
 },
 "nbformat": 4,
 "nbformat_minor": 2
}
